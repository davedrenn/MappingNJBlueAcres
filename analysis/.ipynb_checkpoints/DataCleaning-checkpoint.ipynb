{
 "cells": [
  {
   "cell_type": "markdown",
   "id": "bce08840-2907-42d0-b62f-cb6923938d43",
   "metadata": {},
   "source": [
    "---\n",
    "format: \n",
    "  html:\n",
    "    toc: false\n",
    "    page-layout: full\n",
    "    code-fold: true\n",
    "execute:\n",
    "    echo: true\n",
    "---\n"
   ]
  },
  {
   "cell_type": "markdown",
   "id": "ac22a4ea-f842-4266-abca-2598a9876238",
   "metadata": {},
   "source": [
    "# NFIP Claims Data Cleaning\n"
   ]
  },
  {
   "cell_type": "code",
   "execution_count": 1,
   "id": "c6907d6d-1523-43aa-9e0e-a3c5c08c6edd",
   "metadata": {
    "tags": []
   },
   "outputs": [],
   "source": [
    "# import geopandas as gpd\n",
    "# import numpy as np\n",
    "# import pandas as pd"
   ]
  },
  {
   "cell_type": "code",
   "execution_count": 2,
   "id": "2a0a651d-ee3e-4d4f-b5d8-8226337c9a1e",
   "metadata": {
    "tags": []
   },
   "outputs": [],
   "source": [
    "# pd.options.display.max_columns = 999"
   ]
  },
  {
   "cell_type": "code",
   "execution_count": 3,
   "id": "b7e5d7a1-1382-44b3-85f1-697fc9a2e647",
   "metadata": {
    "tags": []
   },
   "outputs": [],
   "source": [
    "# claims_df = pd.read_csv(\"data/claims.csv\")\n",
    "\n",
    "# claims_features= claims_df.loc[:, (\"dateOfLoss\", \n",
    "#                           \"baseFloodElevation\", \n",
    "#                           \"ratedFloodZone\", \n",
    "#                           \"locationOfContents\", \n",
    "#                           \"occupancyType\", \n",
    "#                           \"amountPaidOnBuildingClaim\",\n",
    "#                           \"amountPaidOnContentsClaim\",\n",
    "#                           \"totalBuildingInsuranceCoverage\",\n",
    "#                           \"totalContentsInsuranceCoverage\",\n",
    "#                           \"yearOfLoss\",\n",
    "#                           \"primaryResidenceIndicator\",\n",
    "#                           \"buildingDamageAmount\", \n",
    "#                           \"netBuildingPaymentAmount\",\n",
    "#                           \"buildingPropertyValue\",\n",
    "#                           \"contentsDamageAmount\",\n",
    "#                           \"netContentsPaymentAmount\",\n",
    "#                           \"contentsPropertyValue\",\n",
    "#                           \"floodCharacteristicsIndicator\",\n",
    "#                           \"floodWaterDuration\",\n",
    "#                           \"floodproofedIndicator\",\n",
    "#                           \"floodEvent\",\n",
    "#                           \"buildingReplacementCost\",\n",
    "#                           \"contentsReplacementCost\",\n",
    "#                           \"stateOwnedIndicator\",\n",
    "#                           \"buildingDescriptionCode\",\n",
    "#                           \"rentalPropertyIndicator\",\n",
    "#                           \"state\",\n",
    "#                           \"countyCode\",\n",
    "#                           \"censusTract\",\n",
    "#                           \"censusBlockGroupFips\",\n",
    "#                           \"latitude\",\n",
    "#                           \"longitude\",\n",
    "#                           \"id\")]\n",
    "\n",
    "# claims_features['countyCode'] = claims_features['countyCode'].astype(str).str.rstrip('.0')\n",
    "\n",
    "# claims_features['censusTract'] = claims_features['censusTract'].astype(str).str.rstrip('.0')\n",
    "\n",
    "# claims_features['censusBlockGroupFips'] = claims_features['censusBlockGroupFips'].astype(str).str.rstrip('.0')\n",
    "\n",
    "\n",
    "\n",
    "# # Remove rows with missing geometry\n",
    "# claims_features = claims_features.dropna(subset=[\"latitude\", \"longitude\"])\n",
    "\n",
    "\n",
    "# # Create our GeoDataFrame with geometry column created from lon/lat\n",
    "# claims = gpd.GeoDataFrame(\n",
    "#     claims_features,\n",
    "#     geometry=gpd.points_from_xy(claims_df[\"longitude\"], claims_df[\"latitude\"]),\n",
    "#     crs=\"EPSG:4326\",\n",
    "# )\n",
    "\n",
    "# claims_gpd = claims.to_crs('EPSG:3857')\n",
    "\n",
    "# claims_gpd['x'] = claims_gpd['geometry'].x\n",
    "# claims_gpd['y'] = claims_gpd['geometry'].y\n"
   ]
  },
  {
   "cell_type": "code",
   "execution_count": 4,
   "id": "6a7e89ff-4758-48e2-b4d5-6212538fd273",
   "metadata": {
    "tags": []
   },
   "outputs": [],
   "source": [
    "# states = ['NJ']\n",
    "\n",
    "# claims_NJ = claims_gpd[(claims_gpd['yearOfLoss'] >= 1995) & (claims_gpd['state'].isin(states))]"
   ]
  },
  {
   "cell_type": "code",
   "execution_count": 5,
   "id": "1a81595b-4448-4b41-aade-4b8d7a551c09",
   "metadata": {
    "tags": []
   },
   "outputs": [],
   "source": [
    "# from pathlib import Path  \n",
    "\n",
    "# filepath = Path('data/claims_NJ.csv')  \n",
    "\n",
    "# filepath.parent.mkdir(parents=True, exist_ok=True)  \n",
    "\n",
    "# claims_NJ.to_csv(filepath) "
   ]
  },
  {
   "cell_type": "code",
   "execution_count": 6,
   "id": "4afd7045-8030-4580-9471-91d11814d73d",
   "metadata": {
    "tags": []
   },
   "outputs": [],
   "source": [
    "# claims_NJ_clean=claims_NJ\n",
    "\n",
    "# sfh = (claims_NJ_clean['occupancyType'] == 1) | (claims_NJ_clean['occupancyType'] == 11)\n",
    "# claims_NJ_clean['sfh'] = np.where(sfh, 1, 0)\n",
    "\n",
    "# claims_NJ_clean['observation'] = 1\n",
    "\n",
    "# claims_sfh = claims_NJ_clean[claims_NJ_clean['sfh'] == 1]"
   ]
  },
  {
   "cell_type": "code",
   "execution_count": 7,
   "id": "386ade6c-a318-4921-a45f-962cbf38d8d2",
   "metadata": {
    "tags": []
   },
   "outputs": [],
   "source": [
    "# from pathlib import Path  \n",
    "\n",
    "# filepath = Path('data/claims_NJ_clean.csv')  \n",
    "\n",
    "# filepath.parent.mkdir(parents=True, exist_ok=True)  \n",
    "\n",
    "# claims_NJ_clean.to_csv(filepath) "
   ]
  },
  {
   "cell_type": "code",
   "execution_count": 8,
   "id": "8992be9a-f96f-4114-8ac1-dde9f3e9fd18",
   "metadata": {
    "tags": []
   },
   "outputs": [],
   "source": [
    "# from pathlib import Path  \n",
    "\n",
    "# filepath = Path('data/claims_sfh.csv')  \n",
    "\n",
    "# filepath.parent.mkdir(parents=True, exist_ok=True)  \n",
    "\n",
    "# claims_sfh.to_csv(filepath) "
   ]
  }
 ],
 "metadata": {
  "kernelspec": {
   "display_name": "Python 3 (ipykernel)",
   "language": "python",
   "name": "python3"
  },
  "language_info": {
   "codemirror_mode": {
    "name": "ipython",
    "version": 3
   },
   "file_extension": ".py",
   "mimetype": "text/x-python",
   "name": "python",
   "nbconvert_exporter": "python",
   "pygments_lexer": "ipython3",
   "version": "3.10.12"
  }
 },
 "nbformat": 4,
 "nbformat_minor": 5
}
